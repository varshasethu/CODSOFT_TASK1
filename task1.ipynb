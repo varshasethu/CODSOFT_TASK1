{
 "cells": [
  {
   "cell_type": "code",
   "execution_count": null,
   "id": "2d1a64c7-866f-45f3-b9e8-2539c3dd755c",
   "metadata": {},
   "outputs": [],
   "source": [
    " # Titanic Survival Prediction\n",
    "\n",
    "# Step 1: Importing Libraries\n",
    "import pandas as pd\n",
    "import numpy as np\n",
    "import seaborn as sns\n",
    "import matplotlib.pyplot as plt\n",
    "from sklearn.model_selection import train_test_split\n",
    "from sklearn.ensemble import RandomForestClassifier\n",
    "from sklearn.metrics import accuracy_score, classification_report, confusion_matrix\n"
   ]
  },
  {
   "cell_type": "code",
   "execution_count": null,
   "id": "e7f55c1d-3c11-41fc-be51-a7490d10715c",
   "metadata": {},
   "outputs": [],
   "source": [
    "# Step 2: Importing Dataset\n",
    "file_path = 'Titanic-Dataset.csv'  # Ensure the dataset is in the same directory\n",
    "df = pd.read_csv(file_path)\n",
    "print(\"Dataset loaded successfully.\")\n",
    "\n"
   ]
  },
  {
   "cell_type": "code",
   "execution_count": null,
   "id": "f5ea8921-2f14-4093-8c68-105a8d63120c",
   "metadata": {},
   "outputs": [],
   "source": [
    "# Step 3: Data Preprocessing\n",
    "df['Age'].fillna(df['Age'].median(), inplace=True)\n",
    "df['Embarked'].fillna(df['Embarked'].mode()[0], inplace=True)\n",
    "df = pd.get_dummies(df, columns=['Sex', 'Embarked'], drop_first=True)\n",
    "df.drop(['PassengerId', 'Name', 'Ticket', 'Cabin'], axis=1, inplace=True)\n"
   ]
  },
  {
   "cell_type": "code",
   "execution_count": null,
   "id": "0115a022-142d-42ff-8e8e-743dc2aeee01",
   "metadata": {},
   "outputs": [],
   "source": [
    "# Step 4: Splitting the Dataset\n",
    "X = df.drop('Survived', axis=1)\n",
    "y = df['Survived']\n",
    "X_train, X_test, y_train, y_test = train_test_split(X, y, test_size=0.2, random_state=42)"
   ]
  },
  {
   "cell_type": "code",
   "execution_count": null,
   "id": "ac2bffcb-9119-4a10-aadc-07117771883a",
   "metadata": {},
   "outputs": [],
   "source": [
    "# Step 5: Model Training\n",
    "model = RandomForestClassifier(random_state=42)\n",
    "model.fit(X_train, y_train)\n"
   ]
  },
  {
   "cell_type": "code",
   "execution_count": null,
   "id": "8d331f47-e35f-49f4-a74f-2b2fe5dd559c",
   "metadata": {},
   "outputs": [],
   "source": [
    "# Step 6: Model Prediction\n",
    "y_pred = model.predict(X_test)\n",
    "\n"
   ]
  },
  {
   "cell_type": "code",
   "execution_count": null,
   "id": "f5a4285f-63c1-46c7-a0a0-20ef4a5c9658",
   "metadata": {},
   "outputs": [],
   "source": [
    "# Step 7: Data Visualization and Evaluation\n",
    "# Confusion Matrix\n",
    "conf_matrix = confusion_matrix(y_test, y_pred)\n",
    "sns.heatmap(conf_matrix, annot=True, fmt='d', cmap='Blues')\n",
    "plt.title(\"Confusion Matrix for Titanic Survival Prediction\")\n",
    "plt.xlabel(\"Predicted\")\n",
    "plt.ylabel(\"Actual\")\n",
    "plt.show()\n"
   ]
  },
  {
   "cell_type": "code",
   "execution_count": null,
   "id": "c2870448-00bc-47fa-b47b-343073cb7e6c",
   "metadata": {},
   "outputs": [],
   "source": [
    "# Feature Importance\n",
    "sns.barplot(x=model.feature_importances_, y=X.columns)\n",
    "plt.title(\"Feature Importance for Titanic Survival Prediction\")\n",
    "plt.show()\n"
   ]
  },
  {
   "cell_type": "code",
   "execution_count": null,
   "id": "5587be8b-0ee3-4fc3-9bb7-a8f93336a75a",
   "metadata": {},
   "outputs": [],
   "source": [
    "# Evaluation Metrics\n",
    "print(\"Accuracy:\", accuracy_score(y_test, y_pred))\n",
    "print(\"Classification Report:\\n\", classification_report(y_test, y_pred))"
   ]
  }
 ],
 "metadata": {
  "kernelspec": {
   "display_name": "Python 3 (ipykernel)",
   "language": "python",
   "name": "python3"
  },
  "language_info": {
   "codemirror_mode": {
    "name": "ipython",
    "version": 3
   },
   "file_extension": ".py",
   "mimetype": "text/x-python",
   "name": "python",
   "nbconvert_exporter": "python",
   "pygments_lexer": "ipython3",
   "version": "3.12.7"
  }
 },
 "nbformat": 4,
 "nbformat_minor": 5
}
